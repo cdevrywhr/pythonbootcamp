{
  "nbformat": 4,
  "nbformat_minor": 0,
  "metadata": {
    "colab": {
      "name": "6_Python_Data_Handling.ipynb",
      "provenance": [],
      "authorship_tag": "ABX9TyPpI0bP/hd7OC/T5qB3EL5d",
      "include_colab_link": true
    },
    "kernelspec": {
      "name": "python3",
      "display_name": "Python 3"
    },
    "language_info": {
      "name": "python"
    }
  },
  "cells": [
    {
      "cell_type": "markdown",
      "metadata": {
        "id": "view-in-github",
        "colab_type": "text"
      },
      "source": [
        "<a href=\"https://colab.research.google.com/github/cdevrywhr/pythonbootcamp/blob/main/6_Python_Data_Handling.ipynb\" target=\"_parent\"><img src=\"https://colab.research.google.com/assets/colab-badge.svg\" alt=\"Open In Colab\"/></a>"
      ]
    },
    {
      "cell_type": "markdown",
      "source": [
        "# The io Module\n",
        "using teh io module to implement file-like object in memory\n",
        "store data in memory and handling it"
      ],
      "metadata": {
        "id": "z6ati171HdLT"
      }
    },
    {
      "cell_type": "code",
      "execution_count": 2,
      "metadata": {
        "id": "q8ODr5AUHNNE"
      },
      "outputs": [],
      "source": [
        "import io"
      ]
    },
    {
      "cell_type": "code",
      "source": [
        "new_text = \"Learning python and data analysis\""
      ],
      "metadata": {
        "id": "7ejjKlH8GAKE"
      },
      "execution_count": 3,
      "outputs": []
    },
    {
      "cell_type": "code",
      "source": [
        "file = io.StringIO(new_text)"
      ],
      "metadata": {
        "id": "QkQwEKneGIc4"
      },
      "execution_count": 4,
      "outputs": []
    },
    {
      "cell_type": "code",
      "source": [
        "file.read()"
      ],
      "metadata": {
        "colab": {
          "base_uri": "https://localhost:8080/",
          "height": 36
        },
        "id": "DHVoNsUgGZ6Y",
        "outputId": "c435817b-eed5-45aa-d82d-4fd4e19f03ff"
      },
      "execution_count": 5,
      "outputs": [
        {
          "output_type": "execute_result",
          "data": {
            "application/vnd.google.colaboratory.intrinsic+json": {
              "type": "string"
            },
            "text/plain": [
              "'Learning python and data analysis'"
            ]
          },
          "metadata": {},
          "execution_count": 5
        }
      ]
    },
    {
      "cell_type": "code",
      "source": [
        "file.write(\" Master the data handling concepts\")"
      ],
      "metadata": {
        "colab": {
          "base_uri": "https://localhost:8080/"
        },
        "id": "OtHCNdFNGvpV",
        "outputId": "5402f09a-8892-4fb0-85d4-1ed00078917a"
      },
      "execution_count": 6,
      "outputs": [
        {
          "output_type": "execute_result",
          "data": {
            "text/plain": [
              "34"
            ]
          },
          "metadata": {},
          "execution_count": 6
        }
      ]
    },
    {
      "cell_type": "code",
      "source": [
        "file.seek(0)"
      ],
      "metadata": {
        "colab": {
          "base_uri": "https://localhost:8080/"
        },
        "id": "FC4iNjjMG1j-",
        "outputId": "5d6507a3-5851-4bab-8e81-254221cf6029"
      },
      "execution_count": 10,
      "outputs": [
        {
          "output_type": "execute_result",
          "data": {
            "text/plain": [
              "0"
            ]
          },
          "metadata": {},
          "execution_count": 10
        }
      ]
    },
    {
      "cell_type": "code",
      "source": [
        "file.read()"
      ],
      "metadata": {
        "colab": {
          "base_uri": "https://localhost:8080/",
          "height": 36
        },
        "id": "CQ4atEoXHDna",
        "outputId": "e0fbda7b-3c95-49f7-cdc7-1e6afdb06c7b"
      },
      "execution_count": 11,
      "outputs": [
        {
          "output_type": "execute_result",
          "data": {
            "application/vnd.google.colaboratory.intrinsic+json": {
              "type": "string"
            },
            "text/plain": [
              "'Learning python and data analysis Master the data handling concepts'"
            ]
          },
          "metadata": {},
          "execution_count": 11
        }
      ]
    },
    {
      "cell_type": "code",
      "source": [
        ""
      ],
      "metadata": {
        "id": "ifXDWHXDHEQy"
      },
      "execution_count": null,
      "outputs": []
    },
    {
      "cell_type": "markdown",
      "source": [
        "# The os Module\n",
        "\n",
        "1.   using the os module to interact with operating systems\n",
        "2.   reading, writing and deleting files\n",
        "3.   working with directories and locations\n",
        "\n",
        "\n",
        "\n"
      ],
      "metadata": {
        "id": "WQC9enhpHO0a"
      }
    },
    {
      "cell_type": "code",
      "source": [
        "import os"
      ],
      "metadata": {
        "id": "C-Gz-KdQHWLy"
      },
      "execution_count": 12,
      "outputs": []
    },
    {
      "cell_type": "code",
      "source": [
        "os.getcwd()"
      ],
      "metadata": {
        "colab": {
          "base_uri": "https://localhost:8080/",
          "height": 36
        },
        "id": "UmJvK-V6HfY3",
        "outputId": "a4859451-65e1-4a9f-8493-2bff99f3aadf"
      },
      "execution_count": 13,
      "outputs": [
        {
          "output_type": "execute_result",
          "data": {
            "application/vnd.google.colaboratory.intrinsic+json": {
              "type": "string"
            },
            "text/plain": [
              "'/content'"
            ]
          },
          "metadata": {},
          "execution_count": 13
        }
      ]
    },
    {
      "cell_type": "code",
      "source": [
        "os.listdir()"
      ],
      "metadata": {
        "colab": {
          "base_uri": "https://localhost:8080/"
        },
        "id": "T4pwBtrgHpXs",
        "outputId": "b1a95bb8-517b-4c68-d5f9-3f910c7c0094"
      },
      "execution_count": 14,
      "outputs": [
        {
          "output_type": "execute_result",
          "data": {
            "text/plain": [
              "['.config', 'sample_data']"
            ]
          },
          "metadata": {},
          "execution_count": 14
        }
      ]
    },
    {
      "cell_type": "code",
      "source": [
        ""
      ],
      "metadata": {
        "id": "8X3SQR27HzTd"
      },
      "execution_count": null,
      "outputs": []
    },
    {
      "cell_type": "markdown",
      "source": [
        "# The Shutil Module\n",
        "\n",
        "using the shutil module to move data file to defferent directories and folders"
      ],
      "metadata": {
        "id": "t7AmUp67H-6Q"
      }
    },
    {
      "cell_type": "code",
      "source": [
        "import shutil"
      ],
      "metadata": {
        "id": "DedIGAPDIE4f"
      },
      "execution_count": 15,
      "outputs": []
    },
    {
      "cell_type": "code",
      "source": [
        "shutil.move('.main.txt','\\Demo')"
      ],
      "metadata": {
        "id": "DONZaU5kILgf"
      },
      "execution_count": null,
      "outputs": []
    },
    {
      "cell_type": "code",
      "source": [
        "os.listdir('.\\Demo')"
      ],
      "metadata": {
        "id": "gbN2MddDI1uw"
      },
      "execution_count": null,
      "outputs": []
    },
    {
      "cell_type": "code",
      "source": [
        "shutil.move('\\Demo\\main.txt', os.getcwd())"
      ],
      "metadata": {
        "id": "3I8mF0ihJDPN"
      },
      "execution_count": null,
      "outputs": []
    },
    {
      "cell_type": "code",
      "source": [
        "os.listdir()"
      ],
      "metadata": {
        "colab": {
          "base_uri": "https://localhost:8080/"
        },
        "id": "ccBezAYCJVFH",
        "outputId": "c0c211d5-7061-41f8-b785-e860c92db3e0"
      },
      "execution_count": 21,
      "outputs": [
        {
          "output_type": "execute_result",
          "data": {
            "text/plain": [
              "['.config', 'sample_data']"
            ]
          },
          "metadata": {},
          "execution_count": 21
        }
      ]
    },
    {
      "cell_type": "code",
      "source": [
        ""
      ],
      "metadata": {
        "id": "_XRIlXjJJbcU"
      },
      "execution_count": null,
      "outputs": []
    },
    {
      "cell_type": "markdown",
      "source": [
        "# **The send2trash Module**\n",
        "\n",
        "using the sendtrash module to send deleted files to the trash bin instead of removing file peermanently\n",
        "\n",
        "installation : pip install send2trash"
      ],
      "metadata": {
        "id": "a6T0ZO3wJa6r"
      }
    },
    {
      "cell_type": "code",
      "source": [
        "import send2trash"
      ],
      "metadata": {
        "id": "Mrd-Z5b7KPur"
      },
      "execution_count": 22,
      "outputs": []
    },
    {
      "cell_type": "code",
      "source": [
        "send2trash.send2trash(\"main.txt\")"
      ],
      "metadata": {
        "id": "8_dTKLG5KrF9"
      },
      "execution_count": null,
      "outputs": []
    },
    {
      "cell_type": "code",
      "source": [
        ""
      ],
      "metadata": {
        "id": "NIpW8YW7LDdO"
      },
      "execution_count": null,
      "outputs": []
    },
    {
      "cell_type": "markdown",
      "source": [
        "# The zipfile Module\n",
        "using the zipfile module to compress and extract files\n"
      ],
      "metadata": {
        "id": "AfXkvJx3LIjw"
      }
    },
    {
      "cell_type": "code",
      "source": [
        "new_file = open(\"text.txt\",\"w+\")"
      ],
      "metadata": {
        "id": "gt0k2rUlLaJ6"
      },
      "execution_count": 24,
      "outputs": []
    },
    {
      "cell_type": "code",
      "source": [
        "new_file.write(\"this is demo 1\")"
      ],
      "metadata": {
        "colab": {
          "base_uri": "https://localhost:8080/"
        },
        "id": "ThA-G5KwLjm9",
        "outputId": "58253589-5563-42c8-e2a0-32a4f722edda"
      },
      "execution_count": 25,
      "outputs": [
        {
          "output_type": "execute_result",
          "data": {
            "text/plain": [
              "14"
            ]
          },
          "metadata": {},
          "execution_count": 25
        }
      ]
    },
    {
      "cell_type": "code",
      "source": [
        "new_file.close()"
      ],
      "metadata": {
        "id": "Y_Qab1gMLt9m"
      },
      "execution_count": 26,
      "outputs": []
    },
    {
      "cell_type": "code",
      "source": [
        "new_file = open(\"text2.txt\",\"w+\")"
      ],
      "metadata": {
        "id": "pjt2o9sYLv7I"
      },
      "execution_count": 27,
      "outputs": []
    },
    {
      "cell_type": "code",
      "source": [
        "new_file.write(\"this is demo 2\")"
      ],
      "metadata": {
        "colab": {
          "base_uri": "https://localhost:8080/"
        },
        "id": "1M7XMZ-nMEAI",
        "outputId": "6517d489-8b8a-46d4-df72-9d6228781730"
      },
      "execution_count": 28,
      "outputs": [
        {
          "output_type": "execute_result",
          "data": {
            "text/plain": [
              "14"
            ]
          },
          "metadata": {},
          "execution_count": 28
        }
      ]
    },
    {
      "cell_type": "code",
      "source": [
        "new_file.close()"
      ],
      "metadata": {
        "id": "OFWYk-6DMILg"
      },
      "execution_count": 29,
      "outputs": []
    },
    {
      "cell_type": "code",
      "source": [
        ""
      ],
      "metadata": {
        "id": "7SETnD3IMXA8"
      },
      "execution_count": null,
      "outputs": []
    },
    {
      "cell_type": "code",
      "source": [
        "import zipfile"
      ],
      "metadata": {
        "id": "nkSbq8fDMNBQ"
      },
      "execution_count": 30,
      "outputs": []
    },
    {
      "cell_type": "code",
      "source": [
        "new_comp = zipfile.ZipFile(\"new_com.zip\",\"w\")"
      ],
      "metadata": {
        "id": "yHRYXcMWMP0E"
      },
      "execution_count": 31,
      "outputs": []
    },
    {
      "cell_type": "code",
      "source": [
        "new_comp.write(\"text.txt\", compress_type = zipfile.ZIP_DEFLATED)"
      ],
      "metadata": {
        "id": "svnnLxyMMWSS"
      },
      "execution_count": 32,
      "outputs": []
    },
    {
      "cell_type": "code",
      "source": [
        "new_comp.write(\"text2.txt\", compress_type = zipfile.ZIP_DEFLATED)"
      ],
      "metadata": {
        "id": "bWoH68m9Mhtc"
      },
      "execution_count": 33,
      "outputs": []
    },
    {
      "cell_type": "code",
      "source": [
        "new_comp.close()"
      ],
      "metadata": {
        "id": "8ebDOUsKMjCI"
      },
      "execution_count": 34,
      "outputs": []
    },
    {
      "cell_type": "code",
      "source": [
        "new_extract = zipfile.ZipFile(\"new_com.zip\",\"r\")"
      ],
      "metadata": {
        "id": "-dxayDegMu2r"
      },
      "execution_count": 36,
      "outputs": []
    },
    {
      "cell_type": "code",
      "source": [
        "new_extract.extractall(\"this is your extracted content\")"
      ],
      "metadata": {
        "id": "58Leye5RM_5K"
      },
      "execution_count": 37,
      "outputs": []
    },
    {
      "cell_type": "markdown",
      "source": [
        "![image.png](data:image/png;base64,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)"
      ],
      "metadata": {
        "id": "2YACuleWNOwq"
      }
    }
  ]
}