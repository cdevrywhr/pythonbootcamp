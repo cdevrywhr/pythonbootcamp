{
  "nbformat": 4,
  "nbformat_minor": 0,
  "metadata": {
    "colab": {
      "name": "OOP_in_Python.ipynb",
      "provenance": [],
      "collapsed_sections": [],
      "authorship_tag": "ABX9TyPBMSukYFG+sPVTBd3sk4Ge",
      "include_colab_link": true
    },
    "kernelspec": {
      "name": "python3",
      "display_name": "Python 3"
    },
    "language_info": {
      "name": "python"
    }
  },
  "cells": [
    {
      "cell_type": "markdown",
      "metadata": {
        "id": "view-in-github",
        "colab_type": "text"
      },
      "source": [
        "<a href=\"https://colab.research.google.com/github/cdevrywhr/pythonbootcamp/blob/main/4_OOP_in_Python.ipynb\" target=\"_parent\"><img src=\"https://colab.research.google.com/assets/colab-badge.svg\" alt=\"Open In Colab\"/></a>"
      ]
    },
    {
      "cell_type": "markdown",
      "source": [
        "# CLASS IN PYTHON\n",
        "\n",
        "Syntax : class #nameclass\n",
        "\n"
      ],
      "metadata": {
        "id": "r30rWCv1YI1w"
      }
    },
    {
      "cell_type": "code",
      "execution_count": null,
      "metadata": {
        "id": "vWqYfJJ1YCgw"
      },
      "outputs": [],
      "source": [
        "class car:\n",
        "  pass"
      ]
    },
    {
      "cell_type": "code",
      "source": [
        "model1 = car() #object"
      ],
      "metadata": {
        "id": "Kb57HSF8YKF6"
      },
      "execution_count": null,
      "outputs": []
    },
    {
      "cell_type": "code",
      "source": [
        ""
      ],
      "metadata": {
        "id": "PmB-iGa1ZJDB"
      },
      "execution_count": null,
      "outputs": []
    },
    {
      "cell_type": "code",
      "source": [
        "class Car:\n",
        "  color='black'"
      ],
      "metadata": {
        "id": "XYB5kvtFYx1z"
      },
      "execution_count": null,
      "outputs": []
    },
    {
      "cell_type": "code",
      "source": [
        "model2=Car()"
      ],
      "metadata": {
        "id": "VlLt2eChY65a"
      },
      "execution_count": null,
      "outputs": []
    },
    {
      "cell_type": "code",
      "source": [
        "print(model2.color)"
      ],
      "metadata": {
        "colab": {
          "base_uri": "https://localhost:8080/"
        },
        "id": "tN0AC2blZAnV",
        "outputId": "d1ad61ba-8714-475b-945f-40b465186c30"
      },
      "execution_count": null,
      "outputs": [
        {
          "output_type": "stream",
          "name": "stdout",
          "text": [
            "black\n"
          ]
        }
      ]
    },
    {
      "cell_type": "code",
      "source": [
        ""
      ],
      "metadata": {
        "id": "ixfI66kXZJcT"
      },
      "execution_count": null,
      "outputs": []
    },
    {
      "cell_type": "code",
      "source": [
        "class cars:\n",
        "  def __init__(self,name,color):\n",
        "      self.name=name\n",
        "      self.color=color"
      ],
      "metadata": {
        "id": "jCtEWdauZIce"
      },
      "execution_count": null,
      "outputs": []
    },
    {
      "cell_type": "code",
      "source": [
        "model3=cars(\"Audi\",\"Navy\")"
      ],
      "metadata": {
        "id": "58WY26g8Zh-M"
      },
      "execution_count": null,
      "outputs": []
    },
    {
      "cell_type": "code",
      "source": [
        "print(model3.name)\n",
        "print(model3.color)"
      ],
      "metadata": {
        "colab": {
          "base_uri": "https://localhost:8080/"
        },
        "id": "wOui5oJgZqnl",
        "outputId": "cf270dda-2805-493b-fe0c-3cc93d5e446d"
      },
      "execution_count": null,
      "outputs": [
        {
          "output_type": "stream",
          "name": "stdout",
          "text": [
            "Audi\n",
            "Navy\n"
          ]
        }
      ]
    },
    {
      "cell_type": "code",
      "source": [
        ""
      ],
      "metadata": {
        "id": "FtIqXiQkaQZy"
      },
      "execution_count": null,
      "outputs": []
    },
    {
      "cell_type": "code",
      "source": [
        "class cars:\n",
        "  def __init__(self,name,color):\n",
        "      self.name=name\n",
        "      self.color=color\n",
        "  def massage(self):\n",
        "      print(\"The car name is \"+self.name)"
      ],
      "metadata": {
        "id": "Iloiq9UAZwAu"
      },
      "execution_count": null,
      "outputs": []
    },
    {
      "cell_type": "code",
      "source": [
        "model4 = cars(\"Ford\",\"Black\")"
      ],
      "metadata": {
        "id": "Dg_NHj4saDxp"
      },
      "execution_count": null,
      "outputs": []
    },
    {
      "cell_type": "code",
      "source": [
        "model4.massage()"
      ],
      "metadata": {
        "colab": {
          "base_uri": "https://localhost:8080/"
        },
        "id": "HolQLc-XaLCE",
        "outputId": "55fb077b-02d6-4025-8703-94759802cf52"
      },
      "execution_count": null,
      "outputs": [
        {
          "output_type": "stream",
          "name": "stdout",
          "text": [
            "The car name is Ford\n"
          ]
        }
      ]
    },
    {
      "cell_type": "code",
      "source": [
        "model4.name = \"Toyota\""
      ],
      "metadata": {
        "id": "p2tv6fiaaUws"
      },
      "execution_count": null,
      "outputs": []
    },
    {
      "cell_type": "code",
      "source": [
        "model4.massage()"
      ],
      "metadata": {
        "colab": {
          "base_uri": "https://localhost:8080/"
        },
        "id": "zIxwHT7Eaaa7",
        "outputId": "74f74e54-02e0-40ea-aafa-6ff9132f5a8e"
      },
      "execution_count": null,
      "outputs": [
        {
          "output_type": "stream",
          "name": "stdout",
          "text": [
            "The car name is Toyota\n"
          ]
        }
      ]
    },
    {
      "cell_type": "code",
      "source": [
        "del model1"
      ],
      "metadata": {
        "id": "assmlRTsae52"
      },
      "execution_count": null,
      "outputs": []
    },
    {
      "cell_type": "code",
      "source": [
        "print(model1.name)"
      ],
      "metadata": {
        "colab": {
          "base_uri": "https://localhost:8080/",
          "height": 172
        },
        "id": "31nXbebbagsH",
        "outputId": "aa5596de-0326-421b-b1d1-db00e2fe01df"
      },
      "execution_count": null,
      "outputs": [
        {
          "output_type": "error",
          "ename": "NameError",
          "evalue": "ignored",
          "traceback": [
            "\u001b[0;31m---------------------------------------------------------------------------\u001b[0m",
            "\u001b[0;31mNameError\u001b[0m                                 Traceback (most recent call last)",
            "\u001b[0;32m<ipython-input-23-14fbcd292a8b>\u001b[0m in \u001b[0;36m<module>\u001b[0;34m()\u001b[0m\n\u001b[0;32m----> 1\u001b[0;31m \u001b[0mprint\u001b[0m\u001b[0;34m(\u001b[0m\u001b[0mmodel1\u001b[0m\u001b[0;34m.\u001b[0m\u001b[0mname\u001b[0m\u001b[0;34m)\u001b[0m\u001b[0;34m\u001b[0m\u001b[0;34m\u001b[0m\u001b[0m\n\u001b[0m",
            "\u001b[0;31mNameError\u001b[0m: name 'model1' is not defined"
          ]
        }
      ]
    },
    {
      "cell_type": "code",
      "source": [
        ""
      ],
      "metadata": {
        "id": "-l3s6cGvamYX"
      },
      "execution_count": null,
      "outputs": []
    },
    {
      "cell_type": "markdown",
      "source": [
        "# INHERITANCE"
      ],
      "metadata": {
        "id": "5lGpEt1Vam1V"
      }
    },
    {
      "cell_type": "code",
      "source": [
        "#parent class\n",
        "class cars:\n",
        "  def __init__(self,name,color):\n",
        "      self.name=name\n",
        "      self.color=color\n",
        "  def message(self):\n",
        "      print(self.name,self.color)"
      ],
      "metadata": {
        "id": "5w2yv211m08n"
      },
      "execution_count": null,
      "outputs": []
    },
    {
      "cell_type": "code",
      "source": [
        "model1 = cars(\"Audi\",\"Silver\")"
      ],
      "metadata": {
        "id": "hbLMoFyaqvgj"
      },
      "execution_count": null,
      "outputs": []
    },
    {
      "cell_type": "code",
      "source": [
        "model1.message()"
      ],
      "metadata": {
        "colab": {
          "base_uri": "https://localhost:8080/"
        },
        "id": "1IEX-ghtqz3y",
        "outputId": "4d05d87c-6c4d-402d-ea32-4815a89409ac"
      },
      "execution_count": null,
      "outputs": [
        {
          "output_type": "stream",
          "name": "stdout",
          "text": [
            "Audi Silver\n"
          ]
        }
      ]
    },
    {
      "cell_type": "code",
      "source": [
        ""
      ],
      "metadata": {
        "id": "GbHFLni1rAx1"
      },
      "execution_count": null,
      "outputs": []
    },
    {
      "cell_type": "code",
      "source": [
        "class car1(cars):\n",
        "  pass"
      ],
      "metadata": {
        "id": "ZfL8fKQ3rA-S"
      },
      "execution_count": null,
      "outputs": []
    },
    {
      "cell_type": "code",
      "source": [
        "model1 = car1(\"B1\",\"Blue\")"
      ],
      "metadata": {
        "id": "mtFa03y2rXKm"
      },
      "execution_count": null,
      "outputs": []
    },
    {
      "cell_type": "code",
      "source": [
        "model1.message()"
      ],
      "metadata": {
        "colab": {
          "base_uri": "https://localhost:8080/"
        },
        "id": "oZdre-r6rbN0",
        "outputId": "d3d9763a-4a48-4d90-b1e6-348315ccc6c3"
      },
      "execution_count": null,
      "outputs": [
        {
          "output_type": "stream",
          "name": "stdout",
          "text": [
            "B1 Blue\n"
          ]
        }
      ]
    },
    {
      "cell_type": "code",
      "source": [
        ""
      ],
      "metadata": {
        "id": "x7YeD3sgriaT"
      },
      "execution_count": null,
      "outputs": []
    },
    {
      "cell_type": "code",
      "source": [
        "#child class\n",
        "class car1(cars):\n",
        "  def __init__(self,name,color):\n",
        "    cars.__init__(self,name,color)"
      ],
      "metadata": {
        "id": "TCKYLJxFr7q1"
      },
      "execution_count": null,
      "outputs": []
    },
    {
      "cell_type": "code",
      "source": [
        "model2 = car1(\"X1\",\"Yellow\")"
      ],
      "metadata": {
        "id": "uu2ZPuF2sE3H"
      },
      "execution_count": null,
      "outputs": []
    },
    {
      "cell_type": "code",
      "source": [
        "model2.message()"
      ],
      "metadata": {
        "colab": {
          "base_uri": "https://localhost:8080/"
        },
        "id": "QJMSol2CsJos",
        "outputId": "4a4a176c-66cd-44b5-f9f5-a8d7f794e3a2"
      },
      "execution_count": null,
      "outputs": [
        {
          "output_type": "stream",
          "name": "stdout",
          "text": [
            "X1 Yellow\n"
          ]
        }
      ]
    }
  ]
}