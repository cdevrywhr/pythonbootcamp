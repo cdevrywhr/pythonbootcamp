{
  "nbformat": 4,
  "nbformat_minor": 0,
  "metadata": {
    "colab": {
      "name": "3_Fundamental_in_Python.ipynb",
      "provenance": [],
      "authorship_tag": "ABX9TyNUY26I7Q2+m4D+akd22efp",
      "include_colab_link": true
    },
    "kernelspec": {
      "name": "python3",
      "display_name": "Python 3"
    },
    "language_info": {
      "name": "python"
    }
  },
  "cells": [
    {
      "cell_type": "markdown",
      "metadata": {
        "id": "view-in-github",
        "colab_type": "text"
      },
      "source": [
        "<a href=\"https://colab.research.google.com/github/cdevrywhr/pythonbootcamp/blob/main/3_Fundamental_in_Python.ipynb\" target=\"_parent\"><img src=\"https://colab.research.google.com/assets/colab-badge.svg\" alt=\"Open In Colab\"/></a>"
      ]
    },
    {
      "cell_type": "markdown",
      "source": [
        "# **Comparing Values**\n",
        "Operator in Python \n",
        ": > , < , >= , <= , != , ==\n",
        "\n",
        "output : TRUE or FALSE"
      ],
      "metadata": {
        "id": "Ntjy1Asl-b8O"
      }
    },
    {
      "cell_type": "code",
      "execution_count": 1,
      "metadata": {
        "id": "jGmWMmhb8tgM"
      },
      "outputs": [],
      "source": [
        "a=5\n",
        "b=10"
      ]
    },
    {
      "cell_type": "code",
      "source": [
        "a>b #\tGreater than"
      ],
      "metadata": {
        "colab": {
          "base_uri": "https://localhost:8080/"
        },
        "id": "7gPdICEH_Cd0",
        "outputId": "37fc31b8-8eaf-427a-cfc4-7547421e7ab8"
      },
      "execution_count": 2,
      "outputs": [
        {
          "output_type": "execute_result",
          "data": {
            "text/plain": [
              "False"
            ]
          },
          "metadata": {},
          "execution_count": 2
        }
      ]
    },
    {
      "cell_type": "code",
      "source": [
        "a<b #\tLess than"
      ],
      "metadata": {
        "colab": {
          "base_uri": "https://localhost:8080/"
        },
        "id": "nXgL35LN_EZ9",
        "outputId": "2aa8d2ce-abac-4a07-f952-b8b9647f7016"
      },
      "execution_count": 3,
      "outputs": [
        {
          "output_type": "execute_result",
          "data": {
            "text/plain": [
              "True"
            ]
          },
          "metadata": {},
          "execution_count": 3
        }
      ]
    },
    {
      "cell_type": "code",
      "source": [
        "a>=b # Greater than or equal to"
      ],
      "metadata": {
        "colab": {
          "base_uri": "https://localhost:8080/"
        },
        "id": "iWzigKU4_F7d",
        "outputId": "49a98669-4cfe-4781-ebfe-4cf301003c19"
      },
      "execution_count": 4,
      "outputs": [
        {
          "output_type": "execute_result",
          "data": {
            "text/plain": [
              "False"
            ]
          },
          "metadata": {},
          "execution_count": 4
        }
      ]
    },
    {
      "cell_type": "code",
      "source": [
        "a<=b # Less than or equal to"
      ],
      "metadata": {
        "colab": {
          "base_uri": "https://localhost:8080/"
        },
        "id": "Ai2lb3zq_IEa",
        "outputId": "0b062ace-c8a9-46f9-aa7b-86f876ef94a8"
      },
      "execution_count": 5,
      "outputs": [
        {
          "output_type": "execute_result",
          "data": {
            "text/plain": [
              "True"
            ]
          },
          "metadata": {},
          "execution_count": 5
        }
      ]
    },
    {
      "cell_type": "code",
      "source": [
        "a!=b # Not equal"
      ],
      "metadata": {
        "colab": {
          "base_uri": "https://localhost:8080/"
        },
        "id": "WEpVse7F_J-_",
        "outputId": "32ac79cd-b17d-4511-8577-d92a9c8b40c7"
      },
      "execution_count": 6,
      "outputs": [
        {
          "output_type": "execute_result",
          "data": {
            "text/plain": [
              "True"
            ]
          },
          "metadata": {},
          "execution_count": 6
        }
      ]
    },
    {
      "cell_type": "code",
      "source": [
        "a==b # Equal"
      ],
      "metadata": {
        "colab": {
          "base_uri": "https://localhost:8080/"
        },
        "id": "il2oSJyG_L7C",
        "outputId": "35fdacac-775d-41c1-a512-0dc9783df6a6"
      },
      "execution_count": 7,
      "outputs": [
        {
          "output_type": "execute_result",
          "data": {
            "text/plain": [
              "False"
            ]
          },
          "metadata": {},
          "execution_count": 7
        }
      ]
    },
    {
      "cell_type": "code",
      "source": [
        ""
      ],
      "metadata": {
        "id": "iJlDHnXN_Xqk"
      },
      "execution_count": null,
      "outputs": []
    },
    {
      "cell_type": "code",
      "source": [
        "#string type data\n",
        "#index in alphabet"
      ],
      "metadata": {
        "id": "KFm14mrU_X6b"
      },
      "execution_count": null,
      "outputs": []
    },
    {
      "cell_type": "code",
      "source": [
        "\"A\"==\"C\""
      ],
      "metadata": {
        "colab": {
          "base_uri": "https://localhost:8080/"
        },
        "id": "mEzXjiPIAjpH",
        "outputId": "e7634999-4080-4a31-fb73-aab128e94c98"
      },
      "execution_count": 8,
      "outputs": [
        {
          "output_type": "execute_result",
          "data": {
            "text/plain": [
              "False"
            ]
          },
          "metadata": {},
          "execution_count": 8
        }
      ]
    },
    {
      "cell_type": "code",
      "source": [
        "\"A\"<=\"C\""
      ],
      "metadata": {
        "colab": {
          "base_uri": "https://localhost:8080/"
        },
        "id": "HEb8lyw8AmdH",
        "outputId": "a5de21e8-af19-46d7-8491-05da7369ad18"
      },
      "execution_count": 9,
      "outputs": [
        {
          "output_type": "execute_result",
          "data": {
            "text/plain": [
              "True"
            ]
          },
          "metadata": {},
          "execution_count": 9
        }
      ]
    },
    {
      "cell_type": "code",
      "source": [
        "\"A\">=\"C\""
      ],
      "metadata": {
        "colab": {
          "base_uri": "https://localhost:8080/"
        },
        "id": "pmNixIPEApPf",
        "outputId": "8fc1a5a5-c207-48bc-b1dc-d4445bbca77b"
      },
      "execution_count": 10,
      "outputs": [
        {
          "output_type": "execute_result",
          "data": {
            "text/plain": [
              "False"
            ]
          },
          "metadata": {},
          "execution_count": 10
        }
      ]
    },
    {
      "cell_type": "code",
      "source": [
        "\"A\"<\"C\""
      ],
      "metadata": {
        "colab": {
          "base_uri": "https://localhost:8080/"
        },
        "id": "6tg50q1uAqva",
        "outputId": "fb6fa6b0-c749-4da7-b792-c8192ecd7f55"
      },
      "execution_count": 11,
      "outputs": [
        {
          "output_type": "execute_result",
          "data": {
            "text/plain": [
              "True"
            ]
          },
          "metadata": {},
          "execution_count": 11
        }
      ]
    },
    {
      "cell_type": "code",
      "source": [
        "\"A\">\"C\""
      ],
      "metadata": {
        "colab": {
          "base_uri": "https://localhost:8080/"
        },
        "id": "E8F3Wu2xAsk1",
        "outputId": "13732e9f-f061-4c88-8197-b0ad779a92d8"
      },
      "execution_count": 12,
      "outputs": [
        {
          "output_type": "execute_result",
          "data": {
            "text/plain": [
              "False"
            ]
          },
          "metadata": {},
          "execution_count": 12
        }
      ]
    },
    {
      "cell_type": "code",
      "source": [
        ""
      ],
      "metadata": {
        "id": "7320E-qSA30t"
      },
      "execution_count": null,
      "outputs": []
    },
    {
      "cell_type": "markdown",
      "source": [
        "# **Logic Operator**\n",
        "\n",
        "*   AND : TRUE both sides are TRUE\n",
        "*   OR : TRUE if any side is TRUE or both are TRUE\n",
        "*   NOT : to reverse the value\n",
        "\n",
        "\n"
      ],
      "metadata": {
        "id": "fxj7NXs2A5J8"
      }
    },
    {
      "cell_type": "code",
      "source": [
        "True and True"
      ],
      "metadata": {
        "colab": {
          "base_uri": "https://localhost:8080/"
        },
        "id": "mrqVfJo0E3Gy",
        "outputId": "c96cffbc-5b70-4aaf-c41c-ce48145b11d0"
      },
      "execution_count": 20,
      "outputs": [
        {
          "output_type": "execute_result",
          "data": {
            "text/plain": [
              "True"
            ]
          },
          "metadata": {},
          "execution_count": 20
        }
      ]
    },
    {
      "cell_type": "code",
      "source": [
        "False and True"
      ],
      "metadata": {
        "colab": {
          "base_uri": "https://localhost:8080/"
        },
        "id": "7S_qEe8YE4vF",
        "outputId": "e8b74065-152a-4d8b-f0aa-5cd6b8a673d7"
      },
      "execution_count": 21,
      "outputs": [
        {
          "output_type": "execute_result",
          "data": {
            "text/plain": [
              "False"
            ]
          },
          "metadata": {},
          "execution_count": 21
        }
      ]
    },
    {
      "cell_type": "code",
      "source": [
        "False and False"
      ],
      "metadata": {
        "colab": {
          "base_uri": "https://localhost:8080/"
        },
        "id": "HZMQxTE8E63B",
        "outputId": "5198d0c6-41f2-43fb-d4cc-b0b103890a67"
      },
      "execution_count": 22,
      "outputs": [
        {
          "output_type": "execute_result",
          "data": {
            "text/plain": [
              "False"
            ]
          },
          "metadata": {},
          "execution_count": 22
        }
      ]
    },
    {
      "cell_type": "code",
      "source": [
        "3>2 and 10<=12"
      ],
      "metadata": {
        "colab": {
          "base_uri": "https://localhost:8080/"
        },
        "id": "29IOFSI6FLWd",
        "outputId": "029af6b3-6b30-4892-bcb1-f5a58334da29"
      },
      "execution_count": 27,
      "outputs": [
        {
          "output_type": "execute_result",
          "data": {
            "text/plain": [
              "True"
            ]
          },
          "metadata": {},
          "execution_count": 27
        }
      ]
    },
    {
      "cell_type": "code",
      "source": [
        "3<2 and 10<=12"
      ],
      "metadata": {
        "colab": {
          "base_uri": "https://localhost:8080/"
        },
        "id": "XSMVw1Z-FRDZ",
        "outputId": "182a2337-09ca-443e-8a70-9f5e136b5811"
      },
      "execution_count": 28,
      "outputs": [
        {
          "output_type": "execute_result",
          "data": {
            "text/plain": [
              "False"
            ]
          },
          "metadata": {},
          "execution_count": 28
        }
      ]
    },
    {
      "cell_type": "code",
      "source": [
        "3<2 and 10>-12"
      ],
      "metadata": {
        "colab": {
          "base_uri": "https://localhost:8080/"
        },
        "id": "qIdoyHOhFTbz",
        "outputId": "6538863b-00db-4813-823f-fc99e1637bf6"
      },
      "execution_count": 29,
      "outputs": [
        {
          "output_type": "execute_result",
          "data": {
            "text/plain": [
              "False"
            ]
          },
          "metadata": {},
          "execution_count": 29
        }
      ]
    },
    {
      "cell_type": "code",
      "source": [
        ""
      ],
      "metadata": {
        "id": "ZSHe3eAHFQuU"
      },
      "execution_count": null,
      "outputs": []
    },
    {
      "cell_type": "code",
      "source": [
        "True or True"
      ],
      "metadata": {
        "colab": {
          "base_uri": "https://localhost:8080/"
        },
        "id": "aVV_F57SE8v9",
        "outputId": "8a232e48-08b5-42aa-9249-95f223aed910"
      },
      "execution_count": 23,
      "outputs": [
        {
          "output_type": "execute_result",
          "data": {
            "text/plain": [
              "True"
            ]
          },
          "metadata": {},
          "execution_count": 23
        }
      ]
    },
    {
      "cell_type": "code",
      "source": [
        "False or True"
      ],
      "metadata": {
        "colab": {
          "base_uri": "https://localhost:8080/"
        },
        "id": "Nefd62OgE_ZS",
        "outputId": "9eef12f7-59d1-4b8d-c299-b922d8a493f2"
      },
      "execution_count": 24,
      "outputs": [
        {
          "output_type": "execute_result",
          "data": {
            "text/plain": [
              "True"
            ]
          },
          "metadata": {},
          "execution_count": 24
        }
      ]
    },
    {
      "cell_type": "code",
      "source": [
        "False or False"
      ],
      "metadata": {
        "colab": {
          "base_uri": "https://localhost:8080/"
        },
        "id": "xS8KmSLnFCHd",
        "outputId": "b67cdac5-c5f9-436a-a515-baa81a47375c"
      },
      "execution_count": 25,
      "outputs": [
        {
          "output_type": "execute_result",
          "data": {
            "text/plain": [
              "False"
            ]
          },
          "metadata": {},
          "execution_count": 25
        }
      ]
    },
    {
      "cell_type": "code",
      "source": [
        ""
      ],
      "metadata": {
        "id": "jIGnGsUlFW5s"
      },
      "execution_count": null,
      "outputs": []
    },
    {
      "cell_type": "code",
      "source": [
        "not True"
      ],
      "metadata": {
        "colab": {
          "base_uri": "https://localhost:8080/"
        },
        "id": "C9ZzSaODFFY_",
        "outputId": "5747f9fa-2547-4cf6-e669-3e3851e1207b"
      },
      "execution_count": 30,
      "outputs": [
        {
          "output_type": "execute_result",
          "data": {
            "text/plain": [
              "False"
            ]
          },
          "metadata": {},
          "execution_count": 30
        }
      ]
    },
    {
      "cell_type": "code",
      "source": [
        "not False"
      ],
      "metadata": {
        "colab": {
          "base_uri": "https://localhost:8080/"
        },
        "id": "O2Q4FLPrFY4M",
        "outputId": "0d4d27fc-fd70-4b0b-e0f7-405952cf01f1"
      },
      "execution_count": 31,
      "outputs": [
        {
          "output_type": "execute_result",
          "data": {
            "text/plain": [
              "True"
            ]
          },
          "metadata": {},
          "execution_count": 31
        }
      ]
    },
    {
      "cell_type": "code",
      "source": [
        "not True == False"
      ],
      "metadata": {
        "colab": {
          "base_uri": "https://localhost:8080/"
        },
        "id": "_ydmRm-2FfEI",
        "outputId": "3df28c91-a2da-40da-9a0c-766f8e5c9bbd"
      },
      "execution_count": 32,
      "outputs": [
        {
          "output_type": "execute_result",
          "data": {
            "text/plain": [
              "True"
            ]
          },
          "metadata": {},
          "execution_count": 32
        }
      ]
    },
    {
      "cell_type": "code",
      "source": [
        "not False != False"
      ],
      "metadata": {
        "colab": {
          "base_uri": "https://localhost:8080/"
        },
        "id": "8AbJxZ0cFhQT",
        "outputId": "dcec7639-f78c-40eb-d84e-3bc99a8e1a4e"
      },
      "execution_count": 34,
      "outputs": [
        {
          "output_type": "execute_result",
          "data": {
            "text/plain": [
              "True"
            ]
          },
          "metadata": {},
          "execution_count": 34
        }
      ]
    },
    {
      "cell_type": "code",
      "source": [
        ""
      ],
      "metadata": {
        "id": "HGYNfyWUFpk9"
      },
      "execution_count": null,
      "outputs": []
    },
    {
      "cell_type": "markdown",
      "source": [
        "# CONDITIONAL STATeMENTS\n",
        "if elif and else"
      ],
      "metadata": {
        "id": "ackgtBZhFp7T"
      }
    },
    {
      "cell_type": "code",
      "source": [
        "if True:\n",
        "  print(\"This is True\")"
      ],
      "metadata": {
        "colab": {
          "base_uri": "https://localhost:8080/"
        },
        "id": "OmBhcvSZF5bx",
        "outputId": "d3b79bf7-0beb-43c7-b70a-82f3d8a2c6f3"
      },
      "execution_count": 36,
      "outputs": [
        {
          "output_type": "stream",
          "name": "stdout",
          "text": [
            "This is True\n"
          ]
        }
      ]
    },
    {
      "cell_type": "code",
      "source": [
        "if 10 == 5*2:\n",
        "  print(\"10 is equal to 5 multiplied by 2\")"
      ],
      "metadata": {
        "colab": {
          "base_uri": "https://localhost:8080/"
        },
        "id": "OJWUCYfmGBMD",
        "outputId": "331380d3-6065-4ca9-c22d-f0c8e9182b52"
      },
      "execution_count": 37,
      "outputs": [
        {
          "output_type": "stream",
          "name": "stdout",
          "text": [
            "10 is equal to 5 multiplied by 2\n"
          ]
        }
      ]
    },
    {
      "cell_type": "code",
      "source": [
        "if 10 == 3*2: #condition is False\n",
        "  print(\"this line not executed\")"
      ],
      "metadata": {
        "id": "UKxlKdciGfPi"
      },
      "execution_count": 39,
      "outputs": []
    },
    {
      "cell_type": "code",
      "source": [
        ""
      ],
      "metadata": {
        "id": "GY3iOmodGqQQ"
      },
      "execution_count": null,
      "outputs": []
    },
    {
      "cell_type": "code",
      "source": [
        "a=9\n",
        "b=10\n",
        "\n",
        "if a != b:\n",
        "  print(\"a not equal b\")\n",
        "elif a == b:\n",
        "  print(\"a is equal b\")\n",
        "else:\n",
        "  print(\"this is executed if condition if and elif not true\")"
      ],
      "metadata": {
        "colab": {
          "base_uri": "https://localhost:8080/"
        },
        "id": "aYgQo7lHGz3Z",
        "outputId": "58ba9a46-b36f-4e1f-d0db-cda427411785"
      },
      "execution_count": 45,
      "outputs": [
        {
          "output_type": "stream",
          "name": "stdout",
          "text": [
            "a not equal b\n"
          ]
        }
      ]
    },
    {
      "cell_type": "code",
      "source": [
        ""
      ],
      "metadata": {
        "id": "jy3su88FIhIR"
      },
      "execution_count": null,
      "outputs": []
    },
    {
      "cell_type": "markdown",
      "source": [
        "# Looping in Python\n",
        "\n"
      ],
      "metadata": {
        "id": "XJNd-YpIIhft"
      }
    },
    {
      "cell_type": "code",
      "source": [
        "#While\n",
        "x=1\n",
        "while x<10:\n",
        "  print(x)\n",
        "  x=x+1"
      ],
      "metadata": {
        "colab": {
          "base_uri": "https://localhost:8080/"
        },
        "id": "L0CeeyVRIx3Y",
        "outputId": "4473d37b-4087-4e59-9c21-08ffefe45093"
      },
      "execution_count": 50,
      "outputs": [
        {
          "output_type": "stream",
          "name": "stdout",
          "text": [
            "1\n",
            "2\n",
            "3\n",
            "4\n",
            "5\n",
            "6\n",
            "7\n",
            "8\n",
            "9\n"
          ]
        }
      ]
    },
    {
      "cell_type": "code",
      "source": [
        "#for\n",
        "for chars in \"python\":\n",
        "  print(chars)\n"
      ],
      "metadata": {
        "colab": {
          "base_uri": "https://localhost:8080/"
        },
        "id": "2bvrj5RVJHaW",
        "outputId": "5159bd05-f7fd-4e03-9f17-0dc69eb58479"
      },
      "execution_count": 52,
      "outputs": [
        {
          "output_type": "stream",
          "name": "stdout",
          "text": [
            "p\n",
            "y\n",
            "t\n",
            "h\n",
            "o\n",
            "n\n"
          ]
        }
      ]
    },
    {
      "cell_type": "code",
      "source": [
        "for i in range(5):\n",
        "  print(\"python\")"
      ],
      "metadata": {
        "colab": {
          "base_uri": "https://localhost:8080/"
        },
        "id": "7nrdsPL6Jj4_",
        "outputId": "54c66c51-ca10-4de3-9456-95d115f708f1"
      },
      "execution_count": 53,
      "outputs": [
        {
          "output_type": "stream",
          "name": "stdout",
          "text": [
            "python\n",
            "python\n",
            "python\n",
            "python\n",
            "python\n"
          ]
        }
      ]
    },
    {
      "cell_type": "code",
      "source": [
        "for i in range(5,15,2): #range(start,stop,step)\n",
        "  print(i+1)"
      ],
      "metadata": {
        "colab": {
          "base_uri": "https://localhost:8080/"
        },
        "id": "Xy4DGXSGJ6XF",
        "outputId": "c452b323-a0e6-412c-c86f-39904348a670"
      },
      "execution_count": 60,
      "outputs": [
        {
          "output_type": "stream",
          "name": "stdout",
          "text": [
            "6\n",
            "8\n",
            "10\n",
            "12\n",
            "14\n"
          ]
        }
      ]
    },
    {
      "cell_type": "code",
      "source": [
        "for i in [1,5,6]:\n",
        "  print(i)"
      ],
      "metadata": {
        "colab": {
          "base_uri": "https://localhost:8080/"
        },
        "id": "BrRN6N5GK5xL",
        "outputId": "bfdb7351-0168-4a47-ecfe-3b644a62dda4"
      },
      "execution_count": 59,
      "outputs": [
        {
          "output_type": "stream",
          "name": "stdout",
          "text": [
            "1\n",
            "5\n",
            "6\n"
          ]
        }
      ]
    },
    {
      "cell_type": "code",
      "source": [
        ""
      ],
      "metadata": {
        "id": "MtHVkJtDLR0s"
      },
      "execution_count": null,
      "outputs": []
    },
    {
      "cell_type": "markdown",
      "source": [
        "# Built-in Functions"
      ],
      "metadata": {
        "id": "9WebLBtoLVX5"
      }
    },
    {
      "cell_type": "code",
      "source": [
        "#absolute functions\n",
        "abs(-12)"
      ],
      "metadata": {
        "colab": {
          "base_uri": "https://localhost:8080/"
        },
        "id": "dqN1MOzjLUSZ",
        "outputId": "a4d4b927-feaa-4e0d-a8b4-5dbc33b07fea"
      },
      "execution_count": 61,
      "outputs": [
        {
          "output_type": "execute_result",
          "data": {
            "text/plain": [
              "12"
            ]
          },
          "metadata": {},
          "execution_count": 61
        }
      ]
    },
    {
      "cell_type": "code",
      "source": [
        "sum([1,3,4])"
      ],
      "metadata": {
        "colab": {
          "base_uri": "https://localhost:8080/"
        },
        "id": "4G2uScDLL21w",
        "outputId": "419dfeb0-3ace-4b51-8ff4-a6f58fbf6706"
      },
      "execution_count": 62,
      "outputs": [
        {
          "output_type": "execute_result",
          "data": {
            "text/plain": [
              "8"
            ]
          },
          "metadata": {},
          "execution_count": 62
        }
      ]
    },
    {
      "cell_type": "code",
      "source": [
        "print(\"This is functions\")"
      ],
      "metadata": {
        "colab": {
          "base_uri": "https://localhost:8080/"
        },
        "id": "cCTRxV1dNsYK",
        "outputId": "b893862e-6ecb-46ae-a833-801142550d7e"
      },
      "execution_count": 67,
      "outputs": [
        {
          "output_type": "stream",
          "name": "stdout",
          "text": [
            "This is functions\n"
          ]
        }
      ]
    },
    {
      "cell_type": "code",
      "source": [
        "x = input(\"Enter Name: \")"
      ],
      "metadata": {
        "colab": {
          "base_uri": "https://localhost:8080/"
        },
        "id": "LJerhvK-NUbg",
        "outputId": "d9457650-ebd7-4bc8-facf-d40511a469e4"
      },
      "execution_count": 64,
      "outputs": [
        {
          "name": "stdout",
          "output_type": "stream",
          "text": [
            "Enter Name: Julian\n"
          ]
        }
      ]
    },
    {
      "cell_type": "code",
      "source": [
        "x = [1,2,3,4,5]\n",
        "y = [6,7,8,9,10]\n",
        "\n",
        "z = zip(x,y)\n",
        "print(list(z))"
      ],
      "metadata": {
        "colab": {
          "base_uri": "https://localhost:8080/"
        },
        "id": "wEMHPIgdNdhQ",
        "outputId": "1ea0280e-3ff6-4659-d6b4-9fa955a30156"
      },
      "execution_count": 66,
      "outputs": [
        {
          "output_type": "stream",
          "name": "stdout",
          "text": [
            "[(1, 6), (2, 7), (3, 8), (4, 9), (5, 10)]\n"
          ]
        }
      ]
    },
    {
      "cell_type": "code",
      "source": [
        ""
      ],
      "metadata": {
        "id": "srD2kEc-NwZF"
      },
      "execution_count": null,
      "outputs": []
    },
    {
      "cell_type": "markdown",
      "source": [
        "# User-Defined Functions"
      ],
      "metadata": {
        "id": "l54bwTXDN62o"
      }
    },
    {
      "cell_type": "code",
      "source": [
        "def addition(a,b):\n",
        "  add = a+b\n",
        "  return add"
      ],
      "metadata": {
        "id": "bQ-Ta-4ZN6Kr"
      },
      "execution_count": 68,
      "outputs": []
    },
    {
      "cell_type": "code",
      "source": [
        "addition(4,5)"
      ],
      "metadata": {
        "colab": {
          "base_uri": "https://localhost:8080/"
        },
        "id": "04LZX8OpOXRP",
        "outputId": "bb42966c-49eb-4e5b-c5cc-d04ffb9cb405"
      },
      "execution_count": 69,
      "outputs": [
        {
          "output_type": "execute_result",
          "data": {
            "text/plain": [
              "9"
            ]
          },
          "metadata": {},
          "execution_count": 69
        }
      ]
    },
    {
      "cell_type": "code",
      "source": [
        ""
      ],
      "metadata": {
        "id": "NfZXz_s0OdhE"
      },
      "execution_count": null,
      "outputs": []
    },
    {
      "cell_type": "markdown",
      "source": [
        "# Anonymous **Lambda**\n",
        "\n",
        "**lambda arguments : expression**"
      ],
      "metadata": {
        "id": "PUif6Cp4Po59"
      }
    },
    {
      "cell_type": "code",
      "source": [
        "multiply = lambda x: x*2"
      ],
      "metadata": {
        "id": "5VvITAvrPwST"
      },
      "execution_count": 70,
      "outputs": []
    },
    {
      "cell_type": "code",
      "source": [
        "multiply(2)"
      ],
      "metadata": {
        "colab": {
          "base_uri": "https://localhost:8080/"
        },
        "id": "zM9VVdj0QHzw",
        "outputId": "03f4d70b-9e3d-4073-b6f7-fe3fe360ca29"
      },
      "execution_count": 72,
      "outputs": [
        {
          "output_type": "execute_result",
          "data": {
            "text/plain": [
              "4"
            ]
          },
          "metadata": {},
          "execution_count": 72
        }
      ]
    },
    {
      "cell_type": "code",
      "source": [
        "multiply(10)"
      ],
      "metadata": {
        "colab": {
          "base_uri": "https://localhost:8080/"
        },
        "id": "UWyvL0FbQNul",
        "outputId": "b9523c28-debe-466d-85c4-6c6987f3f621"
      },
      "execution_count": 73,
      "outputs": [
        {
          "output_type": "execute_result",
          "data": {
            "text/plain": [
              "20"
            ]
          },
          "metadata": {},
          "execution_count": 73
        }
      ]
    },
    {
      "cell_type": "code",
      "source": [
        ""
      ],
      "metadata": {
        "id": "IbfDLnCKSHIv"
      },
      "execution_count": null,
      "outputs": []
    },
    {
      "cell_type": "code",
      "source": [
        "def testing(n):\n",
        "  return lambda i: i*n"
      ],
      "metadata": {
        "id": "xDhQ85U5QRrj"
      },
      "execution_count": 74,
      "outputs": []
    },
    {
      "cell_type": "code",
      "source": [
        "r1 = testing(10)"
      ],
      "metadata": {
        "id": "eITV8cecRtCZ"
      },
      "execution_count": 76,
      "outputs": []
    },
    {
      "cell_type": "code",
      "source": [
        "r1(5)"
      ],
      "metadata": {
        "colab": {
          "base_uri": "https://localhost:8080/"
        },
        "id": "URzm0TDrR1Gv",
        "outputId": "b3c786bb-6a90-47fa-dda3-bc0ecf1a73cd"
      },
      "execution_count": 79,
      "outputs": [
        {
          "output_type": "execute_result",
          "data": {
            "text/plain": [
              "50"
            ]
          },
          "metadata": {},
          "execution_count": 79
        }
      ]
    },
    {
      "cell_type": "code",
      "source": [
        ""
      ],
      "metadata": {
        "id": "HmYvIUNsR1q8"
      },
      "execution_count": null,
      "outputs": []
    },
    {
      "cell_type": "markdown",
      "source": [
        "# Breaking a Loop"
      ],
      "metadata": {
        "id": "KLPhg74XSJwo"
      }
    },
    {
      "cell_type": "code",
      "source": [
        "for x in range(0,5):\n",
        "  if x == 3:\n",
        "    break\n",
        "  print(x)\n",
        "\n",
        "print(f\"the last number in the loop is {x}\")"
      ],
      "metadata": {
        "colab": {
          "base_uri": "https://localhost:8080/"
        },
        "id": "TmGlZ3MlSGwS",
        "outputId": "fccda92a-9277-4313-b625-0a66708754ff"
      },
      "execution_count": 81,
      "outputs": [
        {
          "output_type": "stream",
          "name": "stdout",
          "text": [
            "0\n",
            "1\n",
            "2\n",
            "the last number in the loop is 3\n"
          ]
        }
      ]
    },
    {
      "cell_type": "code",
      "source": [
        ""
      ],
      "metadata": {
        "id": "JvWn4MimScKQ"
      },
      "execution_count": null,
      "outputs": []
    },
    {
      "cell_type": "markdown",
      "source": [
        "# Continue Statement"
      ],
      "metadata": {
        "id": "16jgOdpXS_Lr"
      }
    },
    {
      "cell_type": "code",
      "source": [
        "for x in range(0,7):\n",
        "  if x == 3:\n",
        "    continue\n",
        "  print(x)"
      ],
      "metadata": {
        "colab": {
          "base_uri": "https://localhost:8080/"
        },
        "id": "iyiX7JISTCnz",
        "outputId": "455a59f7-6527-4bdf-9c89-b3212f8d59da"
      },
      "execution_count": 83,
      "outputs": [
        {
          "output_type": "stream",
          "name": "stdout",
          "text": [
            "0\n",
            "1\n",
            "2\n",
            "4\n",
            "5\n",
            "6\n"
          ]
        }
      ]
    },
    {
      "cell_type": "code",
      "source": [
        ""
      ],
      "metadata": {
        "id": "vlnpqR1hWtGh"
      },
      "execution_count": null,
      "outputs": []
    },
    {
      "cell_type": "code",
      "source": [
        "message = \"Python is so simple!\"\n",
        "\n",
        "for item in message:\n",
        "  if item == \"v\":\n",
        "    break\n",
        "    \n",
        "else:\n",
        "  print(\"There is no V!\")"
      ],
      "metadata": {
        "colab": {
          "base_uri": "https://localhost:8080/"
        },
        "id": "j9bPyBSaTwoX",
        "outputId": "2958e995-2977-4097-ddf1-e0c537382789"
      },
      "execution_count": 87,
      "outputs": [
        {
          "output_type": "stream",
          "name": "stdout",
          "text": [
            "There is no V!\n"
          ]
        }
      ]
    },
    {
      "cell_type": "code",
      "source": [
        ""
      ],
      "metadata": {
        "id": "guJYLJ6VWsKT"
      },
      "execution_count": null,
      "outputs": []
    },
    {
      "cell_type": "markdown",
      "source": [
        "**Checking Example**"
      ],
      "metadata": {
        "id": "9oodB5XJW1ms"
      }
    },
    {
      "cell_type": "code",
      "source": [
        "for x in range(4):\n",
        "  password = input(\"Enter Pass: \")\n",
        "  x=x+1\n",
        "  if password == \"123#@2\":\n",
        "    break\n",
        "  print(\"error, this is not corret ... Try again!\")\n",
        "  \n",
        "if x==4:\n",
        "    print(\"Error, Try again!\")\n",
        "else:\n",
        "  print(\"The proses is completed. Thanks!\")"
      ],
      "metadata": {
        "colab": {
          "base_uri": "https://localhost:8080/"
        },
        "id": "N29S--DDWsD9",
        "outputId": "a27b9983-54a2-4a71-d74f-aad002147ab7"
      },
      "execution_count": 93,
      "outputs": [
        {
          "output_type": "stream",
          "name": "stdout",
          "text": [
            "Enter Pass: 4\n",
            "error, this is not corret ... Try again!\n",
            "Enter Pass: 5\n",
            "error, this is not corret ... Try again!\n",
            "Enter Pass: \n",
            "error, this is not corret ... Try again!\n",
            "Enter Pass: 7\n",
            "error, this is not corret ... Try again!\n",
            "Error, Try again!\n"
          ]
        }
      ]
    }
  ]
}